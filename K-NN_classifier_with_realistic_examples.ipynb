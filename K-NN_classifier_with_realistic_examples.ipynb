{
 "cells": [
  {
   "cell_type": "markdown",
   "metadata": {},
   "source": [
    "#   <center> K-Nearest Neighbors</center>"
   ]
  },
  {
   "cell_type": "markdown",
   "metadata": {},
   "source": [
    "In this notebook you will load the customer dataset and use k-nearest neighbors algorithm to predict a data point.\n",
    "\n",
    "let's see what is <i><b>K-nearest neighbors</b></i>\n",
    "<p>\n",
    "    <b>K-nearest neighbors</b> is supervised learning algorithm where data is trained with data points according to their classification.\n",
    "</p>   \n",
    "<p>\n",
    "    once a point is to be predicted, it takes k-nearest neighbors into account to predict the actual and correct class </p> "
   ]
  },
  {
   "cell_type": "markdown",
   "metadata": {},
   "source": [
    "<img src=\"https://cambridgecoding.files.wordpress.com/2016/01/knn2.jpg\">"
   ]
  },
  {
   "cell_type": "markdown",
   "metadata": {},
   "source": [
    "<b>Let's load required libraries </b> "
   ]
  },
  {
   "cell_type": "code",
   "execution_count": 4,
   "metadata": {},
   "outputs": [],
   "source": [
    "import itertools\n",
    "import numpy as np\n",
    "import matplotlib.pyplot as plt\n",
    "import pandas as pd\n",
    "import matplotlib.ticker as ticker\n",
    "import numpy as np\n",
    "from matplotlib.ticker import NullFormatter\n",
    "from sklearn import preprocessing\n",
    "%matplotlib inline"
   ]
  },
  {
   "cell_type": "markdown",
   "metadata": {},
   "source": [
    "<p>\n",
    "    Lets visualize the dataset this way, assume that a telecommunication provider has divide its customers baseby service usage patterns, categorizing the customers into four groups.<br><br>\n",
    "    <b>1.Basic Service</b> <br>\n",
    "    <b>2.E-Service</b> <br>\n",
    "    <b>3.Plus Service</b><br>\n",
    "    <b>4.Total service</b><br>\n",
    "  </p>\n",
    "   \n",
    "<p>\n",
    "    If the demographic data can be used to predict group membership, the company can customize offers for individual prospective customers. It's a classification problem.\n",
    "</p>\n",
    "<p> \n",
    "    we need to build a model which can be used to predict class of a new or unknown case.\n",
    "    The example focuses on using demographic data, such as region, age, and marital, to predict patterns.\n",
    "    The target field is <b>Custcat</b>\n",
    "</p>\n",
    "<p>\n",
    "    <b> Objective:</b> To build a classifier which can predict class of unknown cases.\n",
    "      We will be using specific type of classification called as K-nearest neighbors. \n",
    "</p>\n",
    "    \n",
    "\n"
   ]
  },
  {
   "cell_type": "code",
   "execution_count": 5,
   "metadata": {},
   "outputs": [
    {
     "data": {
      "text/html": [
       "<div>\n",
       "<style scoped>\n",
       "    .dataframe tbody tr th:only-of-type {\n",
       "        vertical-align: middle;\n",
       "    }\n",
       "\n",
       "    .dataframe tbody tr th {\n",
       "        vertical-align: top;\n",
       "    }\n",
       "\n",
       "    .dataframe thead th {\n",
       "        text-align: right;\n",
       "    }\n",
       "</style>\n",
       "<table border=\"1\" class=\"dataframe\">\n",
       "  <thead>\n",
       "    <tr style=\"text-align: right;\">\n",
       "      <th></th>\n",
       "      <th>region</th>\n",
       "      <th>tenure</th>\n",
       "      <th>age</th>\n",
       "      <th>marital</th>\n",
       "      <th>address</th>\n",
       "      <th>income</th>\n",
       "      <th>ed</th>\n",
       "      <th>employ</th>\n",
       "      <th>retire</th>\n",
       "      <th>gender</th>\n",
       "      <th>reside</th>\n",
       "      <th>custcat</th>\n",
       "    </tr>\n",
       "  </thead>\n",
       "  <tbody>\n",
       "    <tr>\n",
       "      <th>0</th>\n",
       "      <td>2</td>\n",
       "      <td>13</td>\n",
       "      <td>44</td>\n",
       "      <td>1</td>\n",
       "      <td>9</td>\n",
       "      <td>64.0</td>\n",
       "      <td>4</td>\n",
       "      <td>5</td>\n",
       "      <td>0.0</td>\n",
       "      <td>0</td>\n",
       "      <td>2</td>\n",
       "      <td>1</td>\n",
       "    </tr>\n",
       "    <tr>\n",
       "      <th>1</th>\n",
       "      <td>3</td>\n",
       "      <td>11</td>\n",
       "      <td>33</td>\n",
       "      <td>1</td>\n",
       "      <td>7</td>\n",
       "      <td>136.0</td>\n",
       "      <td>5</td>\n",
       "      <td>5</td>\n",
       "      <td>0.0</td>\n",
       "      <td>0</td>\n",
       "      <td>6</td>\n",
       "      <td>4</td>\n",
       "    </tr>\n",
       "    <tr>\n",
       "      <th>2</th>\n",
       "      <td>3</td>\n",
       "      <td>68</td>\n",
       "      <td>52</td>\n",
       "      <td>1</td>\n",
       "      <td>24</td>\n",
       "      <td>116.0</td>\n",
       "      <td>1</td>\n",
       "      <td>29</td>\n",
       "      <td>0.0</td>\n",
       "      <td>1</td>\n",
       "      <td>2</td>\n",
       "      <td>3</td>\n",
       "    </tr>\n",
       "    <tr>\n",
       "      <th>3</th>\n",
       "      <td>2</td>\n",
       "      <td>33</td>\n",
       "      <td>33</td>\n",
       "      <td>0</td>\n",
       "      <td>12</td>\n",
       "      <td>33.0</td>\n",
       "      <td>2</td>\n",
       "      <td>0</td>\n",
       "      <td>0.0</td>\n",
       "      <td>1</td>\n",
       "      <td>1</td>\n",
       "      <td>1</td>\n",
       "    </tr>\n",
       "    <tr>\n",
       "      <th>4</th>\n",
       "      <td>2</td>\n",
       "      <td>23</td>\n",
       "      <td>30</td>\n",
       "      <td>1</td>\n",
       "      <td>9</td>\n",
       "      <td>30.0</td>\n",
       "      <td>1</td>\n",
       "      <td>2</td>\n",
       "      <td>0.0</td>\n",
       "      <td>0</td>\n",
       "      <td>4</td>\n",
       "      <td>3</td>\n",
       "    </tr>\n",
       "  </tbody>\n",
       "</table>\n",
       "</div>"
      ],
      "text/plain": [
       "   region  tenure  age  marital  address  income  ed  employ  retire  gender  \\\n",
       "0       2      13   44        1        9    64.0   4       5     0.0       0   \n",
       "1       3      11   33        1        7   136.0   5       5     0.0       0   \n",
       "2       3      68   52        1       24   116.0   1      29     0.0       1   \n",
       "3       2      33   33        0       12    33.0   2       0     0.0       1   \n",
       "4       2      23   30        1        9    30.0   1       2     0.0       0   \n",
       "\n",
       "   reside  custcat  \n",
       "0       2        1  \n",
       "1       6        4  \n",
       "2       2        3  \n",
       "3       1        1  \n",
       "4       4        3  "
      ]
     },
     "execution_count": 5,
     "metadata": {},
     "output_type": "execute_result"
    }
   ],
   "source": [
    "#Loading the dataset\n",
    "df=pd.read_csv('teleCust1000t.csv')\n",
    "df.head()"
   ]
  },
  {
   "cell_type": "markdown",
   "metadata": {},
   "source": [
    "## Data Visualization and Analysis\n"
   ]
  },
  {
   "cell_type": "markdown",
   "metadata": {},
   "source": [
    "#### Lets see how many rows and colums our dataset have...!"
   ]
  },
  {
   "cell_type": "code",
   "execution_count": 6,
   "metadata": {},
   "outputs": [
    {
     "data": {
      "text/plain": [
       "(1000, 12)"
      ]
     },
     "execution_count": 6,
     "metadata": {},
     "output_type": "execute_result"
    }
   ],
   "source": [
    "df.shape"
   ]
  },
  {
   "cell_type": "markdown",
   "metadata": {},
   "source": [
    "#### To see how many cases of each class is there in dataset "
   ]
  },
  {
   "cell_type": "code",
   "execution_count": 7,
   "metadata": {},
   "outputs": [
    {
     "data": {
      "text/plain": [
       "3    281\n",
       "1    266\n",
       "4    236\n",
       "2    217\n",
       "Name: custcat, dtype: int64"
      ]
     },
     "execution_count": 7,
     "metadata": {},
     "output_type": "execute_result"
    }
   ],
   "source": [
    "df['custcat'].value_counts()"
   ]
  },
  {
   "cell_type": "markdown",
   "metadata": {},
   "source": [
    "#### It means \n",
    "###### <br>281 Plus Service,<br> 266 Basic-service,<br> 236 Total Service,<br> 217 E-Service customers\n"
   ]
  },
  {
   "cell_type": "markdown",
   "metadata": {},
   "source": [
    "#### lets plot histogram  of income"
   ]
  },
  {
   "cell_type": "code",
   "execution_count": 9,
   "metadata": {},
   "outputs": [
    {
     "data": {
      "text/plain": [
       "(array([445., 267., 115.,  52.,  39.,  22.,  12.,  15.,   5.,   5.,   6.,\n",
       "          2.,   3.,   2.,   0.,   1.,   0.,   2.,   1.,   0.,   1.,   1.,\n",
       "          0.,   0.,   0.,   0.,   0.,   1.,   1.,   0.,   0.,   0.,   0.,\n",
       "          1.,   0.,   0.,   0.,   0.,   0.,   0.,   0.,   0.,   0.,   0.,\n",
       "          0.,   0.,   0.,   0.,   0.,   1.]),\n",
       " array([   9.  ,   42.18,   75.36,  108.54,  141.72,  174.9 ,  208.08,\n",
       "         241.26,  274.44,  307.62,  340.8 ,  373.98,  407.16,  440.34,\n",
       "         473.52,  506.7 ,  539.88,  573.06,  606.24,  639.42,  672.6 ,\n",
       "         705.78,  738.96,  772.14,  805.32,  838.5 ,  871.68,  904.86,\n",
       "         938.04,  971.22, 1004.4 , 1037.58, 1070.76, 1103.94, 1137.12,\n",
       "        1170.3 , 1203.48, 1236.66, 1269.84, 1303.02, 1336.2 , 1369.38,\n",
       "        1402.56, 1435.74, 1468.92, 1502.1 , 1535.28, 1568.46, 1601.64,\n",
       "        1634.82, 1668.  ]),\n",
       " <a list of 50 Patch objects>)"
      ]
     },
     "execution_count": 9,
     "metadata": {},
     "output_type": "execute_result"
    },
    {
     "data": {
      "image/png": "[encoded data removed]",
      "text/plain": [
       "<Figure size 432x288 with 1 Axes>"
      ]
     },
     "metadata": {
      "needs_background": "light"
     },
     "output_type": "display_data"
    }
   ],
   "source": [
    "plt.hist(df['income'],bins=50)\n",
    "# it shows at point 9 on x-axis we have value of 445 on y-axis"
   ]
  },
  {
   "cell_type": "markdown",
   "metadata": {},
   "source": [
    "If you dont want those details then we can do it in follwing way"
   ]
  },
  {
   "cell_type": "code",
   "execution_count": 15,
   "metadata": {},
   "outputs": [
    {
     "data": {
      "text/plain": [
       "array([[<matplotlib.axes._subplots.AxesSubplot object at 0x7f9604af4e80>]],\n",
       "      dtype=object)"
      ]
     },
     "execution_count": 15,
     "metadata": {},
     "output_type": "execute_result"
    },
    {
     "data": {
      "image/png": "[encoded data removed]",
      "text/plain": [
       "<Figure size 432x288 with 1 Axes>"
      ]
     },
     "metadata": {
      "needs_background": "light"
     },
     "output_type": "display_data"
    }
   ],
   "source": [
    "df.hist(column='income',bins=45)"
   ]
  },
  {
   "cell_type": "markdown",
   "metadata": {},
   "source": [
    "#### Feature set"
   ]
  },
  {
   "cell_type": "markdown",
   "metadata": {},
   "source": [
    "lets define feature set"
   ]
  },
  {
   "cell_type": "code",
   "execution_count": 16,
   "metadata": {},
   "outputs": [
    {
     "data": {
      "text/plain": [
       "Index(['region', 'tenure', 'age', 'marital', 'address', 'income', 'ed',\n",
       "       'employ', 'retire', 'gender', 'reside', 'custcat'],\n",
       "      dtype='object')"
      ]
     },
     "execution_count": 16,
     "metadata": {},
     "output_type": "execute_result"
    }
   ],
   "source": [
    "df.columns"
   ]
  },
  {
   "cell_type": "code",
   "execution_count": 18,
   "metadata": {},
   "outputs": [
    {
     "data": {
      "text/html": [
       "<div>\n",
       "<style scoped>\n",
       "    .dataframe tbody tr th:only-of-type {\n",
       "        vertical-align: middle;\n",
       "    }\n",
       "\n",
       "    .dataframe tbody tr th {\n",
       "        vertical-align: top;\n",
       "    }\n",
       "\n",
       "    .dataframe thead th {\n",
       "        text-align: right;\n",
       "    }\n",
       "</style>\n",
       "<table border=\"1\" class=\"dataframe\">\n",
       "  <thead>\n",
       "    <tr style=\"text-align: right;\">\n",
       "      <th></th>\n",
       "      <th>region</th>\n",
       "      <th>tenure</th>\n",
       "      <th>age</th>\n",
       "      <th>marital</th>\n",
       "      <th>address</th>\n",
       "      <th>income</th>\n",
       "      <th>ed</th>\n",
       "      <th>employ</th>\n",
       "      <th>retire</th>\n",
       "      <th>gender</th>\n",
       "      <th>reside</th>\n",
       "    </tr>\n",
       "  </thead>\n",
       "  <tbody>\n",
       "    <tr>\n",
       "      <th>0</th>\n",
       "      <td>2</td>\n",
       "      <td>13</td>\n",
       "      <td>44</td>\n",
       "      <td>1</td>\n",
       "      <td>9</td>\n",
       "      <td>64.0</td>\n",
       "      <td>4</td>\n",
       "      <td>5</td>\n",
       "      <td>0.0</td>\n",
       "      <td>0</td>\n",
       "      <td>2</td>\n",
       "    </tr>\n",
       "    <tr>\n",
       "      <th>1</th>\n",
       "      <td>3</td>\n",
       "      <td>11</td>\n",
       "      <td>33</td>\n",
       "      <td>1</td>\n",
       "      <td>7</td>\n",
       "      <td>136.0</td>\n",
       "      <td>5</td>\n",
       "      <td>5</td>\n",
       "      <td>0.0</td>\n",
       "      <td>0</td>\n",
       "      <td>6</td>\n",
       "    </tr>\n",
       "    <tr>\n",
       "      <th>2</th>\n",
       "      <td>3</td>\n",
       "      <td>68</td>\n",
       "      <td>52</td>\n",
       "      <td>1</td>\n",
       "      <td>24</td>\n",
       "      <td>116.0</td>\n",
       "      <td>1</td>\n",
       "      <td>29</td>\n",
       "      <td>0.0</td>\n",
       "      <td>1</td>\n",
       "      <td>2</td>\n",
       "    </tr>\n",
       "    <tr>\n",
       "      <th>3</th>\n",
       "      <td>2</td>\n",
       "      <td>33</td>\n",
       "      <td>33</td>\n",
       "      <td>0</td>\n",
       "      <td>12</td>\n",
       "      <td>33.0</td>\n",
       "      <td>2</td>\n",
       "      <td>0</td>\n",
       "      <td>0.0</td>\n",
       "      <td>1</td>\n",
       "      <td>1</td>\n",
       "    </tr>\n",
       "    <tr>\n",
       "      <th>4</th>\n",
       "      <td>2</td>\n",
       "      <td>23</td>\n",
       "      <td>30</td>\n",
       "      <td>1</td>\n",
       "      <td>9</td>\n",
       "      <td>30.0</td>\n",
       "      <td>1</td>\n",
       "      <td>2</td>\n",
       "      <td>0.0</td>\n",
       "      <td>0</td>\n",
       "      <td>4</td>\n",
       "    </tr>\n",
       "  </tbody>\n",
       "</table>\n",
       "</div>"
      ],
      "text/plain": [
       "   region  tenure  age  marital  address  income  ed  employ  retire  gender  \\\n",
       "0       2      13   44        1        9    64.0   4       5     0.0       0   \n",
       "1       3      11   33        1        7   136.0   5       5     0.0       0   \n",
       "2       3      68   52        1       24   116.0   1      29     0.0       1   \n",
       "3       2      33   33        0       12    33.0   2       0     0.0       1   \n",
       "4       2      23   30        1        9    30.0   1       2     0.0       0   \n",
       "\n",
       "   reside  \n",
       "0       2  \n",
       "1       6  \n",
       "2       2  \n",
       "3       1  \n",
       "4       4  "
      ]
     },
     "execution_count": 18,
     "metadata": {},
     "output_type": "execute_result"
    }
   ],
   "source": [
    "X=df[['region', 'tenure', 'age','marital', 'address', 'income', 'ed',\n",
    "       'employ', 'retire', 'gender', 'reside',]]\n",
    "\n",
    "#to see first five rows\n",
    "X[0:5]"
   ]
  },
  {
   "cell_type": "markdown",
   "metadata": {},
   "source": [
    "But above is pandas dataframe. To use scikit-learn library we have to convert it to  numpy array"
   ]
  },
  {
   "cell_type": "code",
   "execution_count": 20,
   "metadata": {},
   "outputs": [
    {
     "data": {
      "text/plain": [
       "array([[  2.,  13.,  44.,   1.,   9.,  64.,   4.,   5.,   0.,   0.,   2.],\n",
       "       [  3.,  11.,  33.,   1.,   7., 136.,   5.,   5.,   0.,   0.,   6.],\n",
       "       [  3.,  68.,  52.,   1.,  24., 116.,   1.,  29.,   0.,   1.,   2.],\n",
       "       [  2.,  33.,  33.,   0.,  12.,  33.,   2.,   0.,   0.,   1.,   1.],\n",
       "       [  2.,  23.,  30.,   1.,   9.,  30.,   1.,   2.,   0.,   0.,   4.]])"
      ]
     },
     "execution_count": 20,
     "metadata": {},
     "output_type": "execute_result"
    }
   ],
   "source": [
    "X=df[['region', 'tenure', 'age','marital', 'address', 'income', 'ed',\n",
    "       'employ', 'retire', 'gender', 'reside',]].values\n",
    "X[0:5]"
   ]
  },
  {
   "cell_type": "markdown",
   "metadata": {},
   "source": [
    "same step for our labels"
   ]
  },
  {
   "cell_type": "code",
   "execution_count": 21,
   "metadata": {},
   "outputs": [
    {
     "data": {
      "text/plain": [
       "array([1, 4, 3, 1, 3])"
      ]
     },
     "execution_count": 21,
     "metadata": {},
     "output_type": "execute_result"
    }
   ],
   "source": [
    "y=df['custcat'].values\n",
    "y[0:5]\n"
   ]
  },
  {
   "cell_type": "markdown",
   "metadata": {},
   "source": [
    "## Normalizing the data"
   ]
  },
  {
   "cell_type": "markdown",
   "metadata": {},
   "source": [
    "Data Standardization give data zero mean and unit variance,"
   ]
  },
  {
   "cell_type": "code",
   "execution_count": 22,
   "metadata": {},
   "outputs": [],
   "source": [
    "X= preprocessing.StandardScaler().fit(X).transform(X.astype(float))"
   ]
  },
  {
   "cell_type": "code",
   "execution_count": 23,
   "metadata": {},
   "outputs": [
    {
     "data": {
      "text/plain": [
       "array([[-0.02696767, -1.055125  ,  0.18450456,  1.0100505 , -0.25303431,\n",
       "        -0.12650641,  1.0877526 , -0.5941226 , -0.22207644, -1.03459817,\n",
       "        -0.23065004],\n",
       "       [ 1.19883553, -1.14880563, -0.69181243,  1.0100505 , -0.4514148 ,\n",
       "         0.54644972,  1.9062271 , -0.5941226 , -0.22207644, -1.03459817,\n",
       "         2.55666158],\n",
       "       [ 1.19883553,  1.52109247,  0.82182601,  1.0100505 ,  1.23481934,\n",
       "         0.35951747, -1.36767088,  1.78752803, -0.22207644,  0.96655883,\n",
       "        -0.23065004],\n",
       "       [-0.02696767, -0.11831864, -0.69181243, -0.9900495 ,  0.04453642,\n",
       "        -0.41625141, -0.54919639, -1.09029981, -0.22207644,  0.96655883,\n",
       "        -0.92747794],\n",
       "       [-0.02696767, -0.58672182, -0.93080797,  1.0100505 , -0.25303431,\n",
       "        -0.44429125, -1.36767088, -0.89182893, -0.22207644, -1.03459817,\n",
       "         1.16300577]])"
      ]
     },
     "execution_count": 23,
     "metadata": {},
     "output_type": "execute_result"
    }
   ],
   "source": [
    "X[0:5]"
   ]
  },
  {
   "cell_type": "markdown",
   "metadata": {},
   "source": [
    "###  <font color='blue'> Train Test Split</font>\n",
    "\n",
    "Out of Sample Accuracy is the percentage of correct predictions that model makes on data that the model has NOT been trained on.\n",
    "Doing a train and test on the same dataset will most likely have low out-of-sample accuracy, due to the likelihood of being over-fit.\n",
    "<p>\n",
    "    <b>Our model should have high out of sample accuarcy, because the purpose of any model is obviously to make correct predictions on unknown data</b>\n",
    "    \n",
    "  <b> we can improvet the accuracy of model by using a method called Train/Test Split</b>\n",
    "  \n",
    "  <b>Train/Test Split involves splitting the dataset into training and testing sets respectively, which are mutually exclusive. After which, you train with the training set and test with the testing set.  </b>\n",
    " \n",
    " </p>\n",
    "\n",
    "<p> <b><font color='red'> This will provide a more accurate evaluation on out-of-sample accuracy because testing dataset is not part of the dataset that have been used to train the data. It is more realistic for real world problem </font> </b> \n",
    "</p>"
   ]
  },
  {
   "cell_type": "code",
   "execution_count": 24,
   "metadata": {},
   "outputs": [
    {
     "name": "stdout",
     "output_type": "stream",
     "text": [
      "train set (800, 11) (800,)\n",
      "==========================================================================\n",
      "test set (200, 11) (200,)\n"
     ]
    },
    {
     "name": "stderr",
     "output_type": "stream",
     "text": [
      "/usr/lib/python3.5/importlib/_bootstrap.py:222: RuntimeWarning: numpy.ufunc size changed, may indicate binary incompatibility. Expected 192 from C header, got 216 from PyObject\n",
      "  return f(*args, **kwds)\n"
     ]
    }
   ],
   "source": [
    "from sklearn.model_selection import train_test_split\n",
    "X_train,X_test,y_train,y_test= train_test_split(X,y,test_size=0.2,random_state=4)\n",
    "print('train set',X_train.shape,y_train.shape)\n",
    "print('==========================================================================')\n",
    "\n",
    "print('test set', X_test.shape,y_test.shape)"
   ]
  },
  {
   "cell_type": "markdown",
   "metadata": {},
   "source": [
    "## Classification "
   ]
  },
  {
   "cell_type": "markdown",
   "metadata": {},
   "source": [
    "### K nearest neighbor (K-NN)"
   ]
  },
  {
   "cell_type": "markdown",
   "metadata": {},
   "source": [
    "<b> Import the library</b>"
   ]
  },
  {
   "cell_type": "code",
   "execution_count": 25,
   "metadata": {},
   "outputs": [],
   "source": [
    "from sklearn.neighbors import KNeighborsClassifier"
   ]
  },
  {
   "cell_type": "markdown",
   "metadata": {},
   "source": [
    "### Training\n",
    "\n",
    "Lets start the algorithm with k=4 for now:"
   ]
  },
  {
   "cell_type": "code",
   "execution_count": 26,
   "metadata": {},
   "outputs": [
    {
     "name": "stdout",
     "output_type": "stream",
     "text": [
      "KNeighborsClassifier(algorithm='auto', leaf_size=30, metric='minkowski',\n",
      "                     metric_params=None, n_jobs=None, n_neighbors=4, p=2,\n",
      "                     weights='uniform')\n"
     ]
    }
   ],
   "source": [
    "k=4\n",
    "nei=KNeighborsClassifier(n_neighbors=k).fit(X_train,y_train)\n",
    "print(nei)"
   ]
  },
  {
   "cell_type": "markdown",
   "metadata": {},
   "source": [
    "## Predicting\n",
    "\n",
    "<b>We can use the model to predict the test data set</b>"
   ]
  },
  {
   "cell_type": "code",
   "execution_count": 27,
   "metadata": {},
   "outputs": [],
   "source": [
    "y_hat=nei.predict(X_test)"
   ]
  },
  {
   "cell_type": "code",
   "execution_count": 29,
   "metadata": {},
   "outputs": [
    {
     "name": "stdout",
     "output_type": "stream",
     "text": [
      "y_hat values==> [1 1 3 2 4]\n"
     ]
    }
   ],
   "source": [
    "print(\"y_hat values==>\",y_hat[0:5])"
   ]
  },
  {
   "cell_type": "markdown",
   "metadata": {},
   "source": [
    "## Accuracy evaluation"
   ]
  },
  {
   "cell_type": "markdown",
   "metadata": {},
   "source": [
    "In multilabel classification, __accuracy classification score__ function computes subset accuracy.<br> \n",
    "This function is equal to the jaccard_similarity_score function. Essentially, it calculates how match the actual labels and predicted labels are in the test set."
   ]
  },
  {
   "cell_type": "markdown",
   "metadata": {},
   "source": [
    "__what is jaccard similarity coefficient score?__ <br>It is defined as the __size of the intersection__ divided by the __size of the union of two label sets__, is __used to compare set of predicted labels__ for a sample to the corresponding set of labels in y_true."
   ]
  },
  {
   "cell_type": "code",
   "execution_count": 31,
   "metadata": {},
   "outputs": [
    {
     "name": "stdout",
     "output_type": "stream",
     "text": [
      "Train set accuracy 0.5475\n",
      "Test set Accurcay 0.32\n"
     ]
    }
   ],
   "source": [
    "from sklearn import metrics\n",
    "\n",
    "# metrics.accuracy_score(ground_truth_values, predicted_values )\n",
    "\n",
    "print(\"Train set accuracy\",metrics.accuracy_score(y_train,nei.predict(X_train) ) )\n",
    "print(\"Test set Accurcay\",metrics.accuracy_score(y_test,y_hat ) )"
   ]
  },
  {
   "cell_type": "markdown",
   "metadata": {},
   "source": [
    "## Can you build the same model again,but with k=6? Give it a try"
   ]
  },
  {
   "cell_type": "code",
   "execution_count": null,
   "metadata": {},
   "outputs": [],
   "source": []
  },
  {
   "cell_type": "markdown",
   "metadata": {},
   "source": [
    "__Think about other K?__"
   ]
  },
  {
   "cell_type": "markdown",
   "metadata": {},
   "source": [
    "K in KNN, is the number of nearest neighbors to examine <br>\n",
    "It is supposed to be specified by User. So, how we choose right K?<br>\n",
    "The general solution is to reserve a part of your data for testing the accuracy of the model.<br>\n",
    "Then chose k =1, __use the training part for modeling,__ and __calculate the accuracy of prediction using all samples in your test set.__ <br> Repeat this process, increasing the k, and see which k is the best for your model."
   ]
  },
  {
   "cell_type": "markdown",
   "metadata": {},
   "source": [
    "#### We can calculate the accuracy of KNN for different Ks."
   ]
  },
  {
   "cell_type": "code",
   "execution_count": 32,
   "metadata": {},
   "outputs": [
    {
     "name": "stdout",
     "output_type": "stream",
     "text": [
      "[0.3   0.29  0.315 0.32  0.315 0.31  0.335 0.325 0.34 ]\n"
     ]
    }
   ],
   "source": [
    "Ks = 10\n",
    "mean_acc = np.zeros((Ks-1))\n",
    "std_acc = np.zeros((Ks-1))\n",
    "\n",
    "ConfusionMaxt =[]\n",
    "\n",
    "for n in range(1,Ks):\n",
    "    tmp=KNeighborsClassifier(n_neighbors=n).fit(X_train,y_train)\n",
    "    #training using train data and predicting below by using test set only\n",
    "    \n",
    "    y_hats=tmp.predict(X_test)\n",
    "    mean_acc[n-1]= metrics.accuracy_score(y_test,y_hats)\n",
    "    \n",
    "    std_acc[n-1]=np.std(y_hats==y_test)/np.sqrt(y_hats.shape[0])\n",
    "print(mean_acc)"
   ]
  },
  {
   "cell_type": "markdown",
   "metadata": {},
   "source": [
    "#### You can plot model accuracy for different number of Neighbors "
   ]
  },
  {
   "cell_type": "code",
   "execution_count": 33,
   "metadata": {},
   "outputs": [
    {
     "data": {
      "image/png": "[encoded data removed]",
      "text/plain": [
       "<Figure size 432x288 with 1 Axes>"
      ]
     },
     "metadata": {
      "needs_background": "light"
     },
     "output_type": "display_data"
    }
   ],
   "source": [
    "plt.plot(range(1,Ks),mean_acc,'r')\n",
    "\n",
    "plt.fill_between(range(1,Ks),mean_acc - 1 * std_acc,mean_acc + 1 * std_acc, alpha=0.10)\n",
    "\n",
    "plt.legend(('Accuracy ', '+/- 3xstd'))\n",
    "\n",
    "plt.ylabel('Accuracy ')\n",
    "\n",
    "plt.xlabel('Number of neighbors (K)')\n",
    "\n",
    "plt.tight_layout()\n",
    "\n",
    "plt.show()"
   ]
  },
  {
   "cell_type": "code",
   "execution_count": 34,
   "metadata": {},
   "outputs": [
    {
     "name": "stdout",
     "output_type": "stream",
     "text": [
      "The best accuracy was with 0.34 with k= 9\n"
     ]
    }
   ],
   "source": [
    "print( \"The best accuracy was with\", mean_acc.max(), \"with k=\", mean_acc.argmax()+1) "
   ]
  },
  {
   "cell_type": "markdown",
   "metadata": {},
   "source": [
    "## Thank you for giving it a try &#128519;\n",
    "\n",
    "The above notebook is creted by <a href=\"https://github.com/tejas-2232\"> Tejas Bachhav</a> <br>\n",
    "\n",
    "You can Visit My LinkedIn profile:<a href=\"https://in.linkedin.com/in/tejas-bachhav-576798168\">Tejas Bachhav</a>\n",
    "\n",
    "\n",
    "<img src=\"data:image/jpeg;base64,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\" >"
   ]
  },
  {
   "cell_type": "code",
   "execution_count": null,
   "metadata": {},
   "outputs": [],
   "source": []
  }
 ],
 "metadata": {
  "kernelspec": {
   "display_name": "Python 3",
   "language": "python",
   "name": "python3"
  },
  "language_info": {
   "codemirror_mode": {
    "name": "ipython",
    "version": 3
   },
   "file_extension": ".py",
   "mimetype": "text/x-python",
   "name": "python",
   "nbconvert_exporter": "python",
   "pygments_lexer": "ipython3",
   "version": "3.5.2"
  }
 },
 "nbformat": 4,
 "nbformat_minor": 2
}
